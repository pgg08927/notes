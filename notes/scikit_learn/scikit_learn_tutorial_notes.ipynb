{
 "cells": [
  {
   "cell_type": "code",
   "execution_count": 1,
   "metadata": {},
   "outputs": [],
   "source": [
    "import pandas as pd\n",
    "import json\n",
    "import random"
   ]
  },
  {
   "cell_type": "markdown",
   "metadata": {},
   "source": [
    "## Class"
   ]
  },
  {
   "cell_type": "code",
   "execution_count": 2,
   "metadata": {},
   "outputs": [],
   "source": [
    "class Sentiment:\n",
    "    NEGATIVE='NEGATIVE'\n",
    "    POSITIVE='POSITIVE'\n",
    "    NEUTRAL='NEUTRAL'\n",
    "    \n",
    "\n",
    "class Review:\n",
    "    def __init__(self,text,score):\n",
    "        self.text=text\n",
    "        self.score=score\n",
    "        self.sentiment=self.get_sentiment()\n",
    "        \n",
    "    def get_sentiment(self):\n",
    "        if self.score<=2:\n",
    "            return Sentiment.NEGATIVE\n",
    "        elif self.score==3:\n",
    "            return Sentiment.NEUTRAL\n",
    "        else:   # score of 4 & 5\n",
    "            return Sentiment.POSITIVE\n",
    "\n",
    "        \n",
    "class ReviewContainer:\n",
    "        def __init__(self, reviews):\n",
    "            self.reviews=reviews\n",
    "            \n",
    "        def get_x(self):\n",
    "            '''geting text from reviews'''\n",
    "            return [x.text for x in self.reviews]\n",
    "        \n",
    "        def get_y(self):\n",
    "            '''getting sentiment for reviews'''\n",
    "            return [x.sentiment for x in self.reviews]\n",
    "        \n",
    "        def evenly_distribute(self):\n",
    "            'evenly distributing positive and negative reviews'\n",
    "            negative = list(filter(lambda x: x.sentiment==Sentiment.NEGATIVE, self.reviews))\n",
    "            positive = list(filter(lambda x: x.sentiment==Sentiment.POSITIVE, self.reviews))\n",
    "            positive_shrunk = positive[:len(negative)] \n",
    "            self.reviews = negative+positive_shrunk\n",
    "            random.shuffle(self.reviews)\n",
    "        "
   ]
  },
  {
   "cell_type": "markdown",
   "metadata": {},
   "source": [
    "### Load data"
   ]
  },
  {
   "cell_type": "code",
   "execution_count": 3,
   "metadata": {},
   "outputs": [],
   "source": [
    "#df=pd.read_json(file_path,lines=True)   # using pandas much easier"
   ]
  },
  {
   "cell_type": "code",
   "execution_count": 4,
   "metadata": {},
   "outputs": [],
   "source": [
    "# reading json file and get the data we require i.e. review text and overall score\n",
    "\n",
    "file_path='Keith_Galli_Tutorial/data/sentiment/Books_small_10000.json'\n",
    "reviews=[]\n",
    "with open (file_path) as f:\n",
    "    for line in f:\n",
    "        review= json.loads(line)                                  # convering string into dictionary\n",
    "        reviews.append(Review(review[\"reviewText\"],review[\"overall\"]))  \n",
    "        "
   ]
  },
  {
   "cell_type": "code",
   "execution_count": 5,
   "metadata": {
    "scrolled": true
   },
   "outputs": [
    {
     "data": {
      "text/plain": [
       "'POSITIVE'"
      ]
     },
     "execution_count": 5,
     "metadata": {},
     "output_type": "execute_result"
    }
   ],
   "source": [
    "reviews[5].get_sentiment()"
   ]
  },
  {
   "cell_type": "markdown",
   "metadata": {},
   "source": [
    "## Preparing data"
   ]
  },
  {
   "cell_type": "code",
   "execution_count": 6,
   "metadata": {},
   "outputs": [],
   "source": [
    "from sklearn.model_selection import train_test_split"
   ]
  },
  {
   "cell_type": "code",
   "execution_count": 7,
   "metadata": {},
   "outputs": [],
   "source": [
    "training,test=train_test_split(reviews,random_state=0,test_size=0.3)"
   ]
  },
  {
   "cell_type": "code",
   "execution_count": 8,
   "metadata": {},
   "outputs": [],
   "source": [
    "train_container = ReviewContainer(training)\n",
    "train_container.evenly_distribute()\n",
    "\n",
    "train_x= train_container.get_x()\n",
    "train_y= train_container.get_y()\n",
    "\n",
    "test_container = ReviewContainer(test)\n",
    "test_container.evenly_distribute()\n",
    "\n",
    "test_x = test_container.get_x()\n",
    "test_y = test_container.get_y()\n"
   ]
  },
  {
   "cell_type": "code",
   "execution_count": 9,
   "metadata": {},
   "outputs": [
    {
     "data": {
      "text/plain": [
       "198"
      ]
     },
     "execution_count": 9,
     "metadata": {},
     "output_type": "execute_result"
    }
   ],
   "source": [
    "test_y.count('POSITIVE')"
   ]
  },
  {
   "cell_type": "markdown",
   "metadata": {},
   "source": [
    "### bag of words vectorisation"
   ]
  },
  {
   "cell_type": "code",
   "execution_count": 11,
   "metadata": {},
   "outputs": [],
   "source": [
    "from sklearn.feature_extraction.text import CountVectorizer, TfidfVectorizer\n",
    "vectorizer = TfidfVectorizer() # Tfidf gives less preferance to repeatative words"
   ]
  },
  {
   "cell_type": "code",
   "execution_count": 12,
   "metadata": {},
   "outputs": [],
   "source": [
    "train_x_vectors = vectorizer.fit_transform(train_x)\n",
    "test_x_vectors = vectorizer.transform(test_x) # not fitting model again as it will create another model\n"
   ]
  },
  {
   "cell_type": "code",
   "execution_count": 13,
   "metadata": {},
   "outputs": [
    {
     "data": {
      "text/plain": [
       "<1x9116 sparse matrix of type '<class 'numpy.float64'>'\n",
       "\twith 203 stored elements in Compressed Sparse Row format>"
      ]
     },
     "execution_count": 13,
     "metadata": {},
     "output_type": "execute_result"
    }
   ],
   "source": [
    "train_x_vectors[0]"
   ]
  },
  {
   "cell_type": "markdown",
   "metadata": {},
   "source": [
    "## Classification"
   ]
  },
  {
   "cell_type": "markdown",
   "metadata": {},
   "source": [
    "### linear SVM"
   ]
  },
  {
   "cell_type": "code",
   "execution_count": 14,
   "metadata": {},
   "outputs": [],
   "source": [
    "from sklearn import svm"
   ]
  },
  {
   "cell_type": "code",
   "execution_count": 15,
   "metadata": {},
   "outputs": [
    {
     "data": {
      "text/plain": [
       "array(['POSITIVE'], dtype='<U8')"
      ]
     },
     "execution_count": 15,
     "metadata": {},
     "output_type": "execute_result"
    }
   ],
   "source": [
    "cls_svm = svm.SVC(kernel='linear',gamma=1)\n",
    "\n",
    "cls_svm.fit(train_x_vectors, train_y)\n",
    "\n",
    "cls_svm.predict(test_x_vectors[0]) # checking the data"
   ]
  },
  {
   "cell_type": "code",
   "execution_count": 16,
   "metadata": {},
   "outputs": [
    {
     "data": {
      "text/plain": [
       "'POSITIVE'"
      ]
     },
     "execution_count": 16,
     "metadata": {},
     "output_type": "execute_result"
    }
   ],
   "source": [
    "test_y[0]"
   ]
  },
  {
   "cell_type": "markdown",
   "metadata": {},
   "source": [
    "### decision tree"
   ]
  },
  {
   "cell_type": "code",
   "execution_count": 17,
   "metadata": {},
   "outputs": [],
   "source": [
    "from sklearn.tree import DecisionTreeClassifier"
   ]
  },
  {
   "cell_type": "code",
   "execution_count": 18,
   "metadata": {},
   "outputs": [
    {
     "data": {
      "text/plain": [
       "array(['NEGATIVE'], dtype='<U8')"
      ]
     },
     "execution_count": 18,
     "metadata": {},
     "output_type": "execute_result"
    }
   ],
   "source": [
    "cls_dec = DecisionTreeClassifier()\n",
    "\n",
    "cls_dec.fit(train_x_vectors,train_y)\n",
    "\n",
    "cls_dec.predict(test_x_vectors[0])"
   ]
  },
  {
   "cell_type": "markdown",
   "metadata": {},
   "source": [
    "### Naive Bayes"
   ]
  },
  {
   "cell_type": "code",
   "execution_count": 19,
   "metadata": {},
   "outputs": [],
   "source": [
    "from sklearn.naive_bayes import GaussianNB"
   ]
  },
  {
   "cell_type": "code",
   "execution_count": 20,
   "metadata": {},
   "outputs": [],
   "source": [
    "#cls_gnb = GaussianNB()\n",
    "#cls_gnb.fit(train_x_vectors, train_y)\n",
    "#cls_gnb.predict(test_x_vectors[0])"
   ]
  },
  {
   "cell_type": "markdown",
   "metadata": {},
   "source": [
    "### Logistic regression"
   ]
  },
  {
   "cell_type": "code",
   "execution_count": 21,
   "metadata": {},
   "outputs": [],
   "source": [
    "from sklearn.linear_model import LogisticRegression"
   ]
  },
  {
   "cell_type": "code",
   "execution_count": 22,
   "metadata": {},
   "outputs": [
    {
     "data": {
      "text/plain": [
       "array(['POSITIVE'], dtype='<U8')"
      ]
     },
     "execution_count": 22,
     "metadata": {},
     "output_type": "execute_result"
    }
   ],
   "source": [
    "cls_lr = LogisticRegression()\n",
    "cls_lr.fit(train_x_vectors, train_y)\n",
    "cls_lr.predict(test_x_vectors[0])"
   ]
  },
  {
   "cell_type": "markdown",
   "metadata": {},
   "source": [
    "## Evalution"
   ]
  },
  {
   "cell_type": "code",
   "execution_count": 23,
   "metadata": {},
   "outputs": [
    {
     "name": "stdout",
     "output_type": "stream",
     "text": [
      "0.8484848484848485\n",
      "0.6186868686868687\n",
      "0.8459595959595959\n"
     ]
    }
   ],
   "source": [
    "# mean accuracy\n",
    "print(cls_svm.score(test_x_vectors, test_y))\n",
    "print(cls_dec.score(test_x_vectors, test_y))\n",
    "print(cls_lr.score(test_x_vectors, test_y))"
   ]
  },
  {
   "cell_type": "code",
   "execution_count": 24,
   "metadata": {},
   "outputs": [
    {
     "data": {
      "text/plain": [
       "array([0.84848485, 0.84848485])"
      ]
     },
     "execution_count": 24,
     "metadata": {},
     "output_type": "execute_result"
    }
   ],
   "source": [
    "# f1 score\n",
    "from sklearn.metrics import f1_score\n",
    "labels = [Sentiment.POSITIVE,Sentiment.NEGATIVE]\n",
    "f1_score(test_y, cls_svm.predict(test_x_vectors), average=None, labels = labels)"
   ]
  },
  {
   "cell_type": "code",
   "execution_count": 25,
   "metadata": {},
   "outputs": [
    {
     "data": {
      "text/plain": [
       "array(['POSITIVE', 'NEGATIVE', 'NEGATIVE'], dtype='<U8')"
      ]
     },
     "execution_count": 25,
     "metadata": {},
     "output_type": "execute_result"
    }
   ],
   "source": [
    "# qualitative checking\n",
    "test_set = ['I enjoyed it, thanks','aweful book','not good']\n",
    "trans_test_set = vectorizer.transform(test_set)\n",
    "\n",
    "cls_svm.predict(trans_test_set)"
   ]
  },
  {
   "cell_type": "markdown",
   "metadata": {},
   "source": [
    "## Tuning model (GRID Search)"
   ]
  },
  {
   "cell_type": "code",
   "execution_count": 26,
   "metadata": {},
   "outputs": [],
   "source": [
    "from sklearn.model_selection import GridSearchCV"
   ]
  },
  {
   "cell_type": "code",
   "execution_count": 27,
   "metadata": {},
   "outputs": [
    {
     "data": {
      "text/plain": [
       "GridSearchCV(cv=4, estimator=SVC(),\n",
       "             param_grid={'gamma': (0.1, 0.5, 1, 4, 8, 16, 20),\n",
       "                         'kernel': ('rbf', 'linear')})"
      ]
     },
     "execution_count": 27,
     "metadata": {},
     "output_type": "execute_result"
    }
   ],
   "source": [
    "parameters={'gamma':(0.1,0.5,1,4,8,16,20), 'kernel':('rbf', 'linear')}\n",
    "\n",
    "svc=svm.SVC()\n",
    "\n",
    "cls_grid = GridSearchCV(svc, parameters, cv=4)\n",
    "\n",
    "cls_grid.fit(train_x_vectors, train_y)\n"
   ]
  },
  {
   "cell_type": "code",
   "execution_count": 28,
   "metadata": {},
   "outputs": [
    {
     "name": "stdout",
     "output_type": "stream",
     "text": [
      "0.8585858585858586\n"
     ]
    }
   ],
   "source": [
    "cls_grid.best_estimator_\n",
    "print(cls_grid.score(test_x_vectors, test_y))\n"
   ]
  },
  {
   "cell_type": "markdown",
   "metadata": {},
   "source": [
    "### Saving Model"
   ]
  },
  {
   "cell_type": "code",
   "execution_count": 29,
   "metadata": {},
   "outputs": [],
   "source": [
    "import pickle"
   ]
  },
  {
   "cell_type": "code",
   "execution_count": 30,
   "metadata": {},
   "outputs": [],
   "source": [
    "with open ('C:/Users/PASHYA/Desktop/Pandas_Demo/Scikit Learn/models/sentiment_classifier.pkl', 'wb') as model:\n",
    "    pickle.dump(cls_grid, model)"
   ]
  },
  {
   "cell_type": "markdown",
   "metadata": {},
   "source": [
    "### Loading model`"
   ]
  },
  {
   "cell_type": "code",
   "execution_count": 31,
   "metadata": {},
   "outputs": [],
   "source": [
    "with open ('C:/Users/PASHYA/Desktop/Pandas_Demo/Scikit Learn/models/sentiment_classifier.pkl', 'rb') as model:\n",
    "    loaded_cls_grid=pickle.load(model)"
   ]
  },
  {
   "cell_type": "code",
   "execution_count": 32,
   "metadata": {},
   "outputs": [
    {
     "name": "stdout",
     "output_type": "stream",
     "text": [
      "One word: AMAZING! I couldn't put it down. I'm scared for Book two and excited all at once. Tori was my favorite. Definitely a must read\n",
      "['POSITIVE']\n"
     ]
    }
   ],
   "source": [
    "print(test_x[0])\n",
    "print(loaded_cls_grid.predict(test_x_vectors[0]))"
   ]
  },
  {
   "cell_type": "code",
   "execution_count": null,
   "metadata": {},
   "outputs": [],
   "source": []
  }
 ],
 "metadata": {
  "kernelspec": {
   "display_name": "Python 3",
   "language": "python",
   "name": "python3"
  },
  "language_info": {
   "codemirror_mode": {
    "name": "ipython",
    "version": 3
   },
   "file_extension": ".py",
   "mimetype": "text/x-python",
   "name": "python",
   "nbconvert_exporter": "python",
   "pygments_lexer": "ipython3",
   "version": "3.8.1"
  }
 },
 "nbformat": 4,
 "nbformat_minor": 4
}
